{
 "cells": [
  {
   "cell_type": "code",
   "execution_count": 2,
   "id": "1e7a6b6c",
   "metadata": {},
   "outputs": [],
   "source": [
    "import numpy as np\n",
    "import camb\n",
    "import matplotlib.pyplot as plt\n",
    "import time"
   ]
  },
  {
   "cell_type": "markdown",
   "id": "ff03ed3d",
   "metadata": {},
   "source": [
    "# Q1) "
   ]
  },
  {
   "cell_type": "code",
   "execution_count": 3,
   "id": "8539d4c2",
   "metadata": {},
   "outputs": [
    {
     "name": "stdout",
     "output_type": "stream",
     "text": [
      "chisq is  3272.2033778089576  for  2501  degrees of freedom.\n"
     ]
    },
    {
     "data": {
      "image/png": "[encoded data removed]",
      "text/plain": [
       "<Figure size 432x288 with 1 Axes>"
      ]
     },
     "metadata": {
      "needs_background": "light"
     },
     "output_type": "display_data"
    }
   ],
   "source": [
    "# Copied code from planck_likelihood\n",
    "\n",
    "def get_spectrum(pars,lmax=3000):\n",
    "    #print('pars are ',pars)\n",
    "    H0=pars[0]\n",
    "    ombh2=pars[1]\n",
    "    omch2=pars[2]\n",
    "    tau=pars[3]\n",
    "    As=pars[4]\n",
    "    ns=pars[5]\n",
    "    pars=camb.CAMBparams()\n",
    "    pars.set_cosmology(H0=H0,ombh2=ombh2,omch2=omch2,mnu=0.06,omk=0,tau=tau)\n",
    "    pars.InitPower.set_params(As=As,ns=ns,r=0)\n",
    "    pars.set_for_lmax(lmax,lens_potential_accuracy=0)\n",
    "    results=camb.get_results(pars)\n",
    "    powers=results.get_cmb_power_spectra(pars,CMB_unit='muK')\n",
    "    cmb=powers['total']\n",
    "    tt=cmb[:,0]    #you could return the full power spectrum here if you wanted to do say EE\n",
    "    \n",
    "    return tt[2:]\n",
    "\n",
    "\n",
    "plt.ion()\n",
    "\n",
    "pars=np.asarray([69,0.022,0.12,0.06,2.1e-9,0.95]) #np.asarray([60,0.02,0.1,0.05,2.00e-9,1.0])\n",
    "planck=np.loadtxt('COM_PowerSpect_CMB-TT-full_R3.01.txt',skiprows=1)\n",
    "ell=planck[:,0]\n",
    "spec=planck[:,1]\n",
    "#print('The number of data point', len(spec))\n",
    "errs=0.5*(planck[:,2]+planck[:,3]);\n",
    "model=get_spectrum(pars)\n",
    "model=model[:len(spec)]\n",
    "resid=spec-model\n",
    "chisq=np.sum((resid/errs)**2)\n",
    "print(\"chisq is \",chisq,\" for \",len(resid)-len(pars),\" degrees of freedom.\")\n",
    "#read in a binned version of the Planck PS for plotting purposes\n",
    "planck_binned=np.loadtxt('COM_PowerSpect_CMB-TT-binned_R3.01.txt',skiprows=1)\n",
    "errs_binned=0.5*(planck_binned[:,2]+planck_binned[:,3]);\n",
    "plt.clf()\n",
    "plt.plot(ell,model)\n",
    "plt.errorbar(planck_binned[:,0],planck_binned[:,1],errs_binned,fmt='.')\n",
    "plt.show()"
   ]
  },
  {
   "cell_type": "markdown",
   "id": "a905b76b",
   "metadata": {},
   "source": [
    "The $\\chi^2$ value from the test-script parameters is quite large (15267.937968222595) and therefore, the parameters are not an acceptable fit. For parameters equal to [69,0.022,0.12,0.06,2.1e-9,0.95], $\\chi^2$ is 3272.2033778089576."
   ]
  },
  {
   "cell_type": "markdown",
   "id": "4d77c6fc",
   "metadata": {},
   "source": [
    "# Q2) Use Newton's method or LM to find the best-fit parameters, using numerical derivatives. Your code should report your best-fit parameters and their errors in planck_fit_params.txt. Please write your own fitter/numerical-derivative-taker rather than stealing one. Keep track of curvature matrix at the best-fit values for the next problem. What are best-fit parameters with the DM density set to zero - how does this $\\chi^2$ compare to the standard value? If you get this to work, print the parameters/errors  in planck_fit_params_nodm.txt."
   ]
  },
  {
   "cell_type": "markdown",
   "id": "e36b12ac",
   "metadata": {},
   "source": [
    "We will write a LM non-linear least squares method using the double-sided derivative approximation to compute the numerical derivatives w.r.t. each of the model parameters. These derivatives will take the form, \n",
    "\n",
    "\\begin{equation}\n",
    "\\frac{df}{dx_i} = \\frac{f(x_i+\\delta) - f(x_i-\\delta)}{2\\delta}\n",
    "\\end{equation}\n",
    "\n",
    "for $x_i$ the parameter the derivative is taken with respect to. We will take the $\\delta$ values to approximately one hundredth of the parameter value to ensure our step sizes are neither too large nor too small."
   ]
  },
  {
   "cell_type": "code",
   "execution_count": 4,
   "id": "0731eba5",
   "metadata": {},
   "outputs": [],
   "source": [
    "# LM functions\n",
    "\n",
    "def get_model_derivs(params, deltas, lmax=3000):\n",
    "    # 6 model parameters\n",
    "    H0, omegabh2, omegaCh2, tau, A, ns = params\n",
    "    \n",
    "    # deltas for derivative\n",
    "    delta0, delta1, delta2, delta3, delta4, delta5 = deltas\n",
    "    \n",
    "    # Model corresponding to params given\n",
    "    mod = get_spectrum(params)\n",
    "    \n",
    "    # Use double sided derivative approximation to compute numerical derivatives given delta\n",
    "    dH0 = (get_spectrum([H0+delta0, omegabh2, omegaCh2, tau, A, ns])-get_spectrum([H0-delta0, omegabh2, omegaCh2, tau, A, ns]))/(2*delta0)\n",
    "    domegabh2 = (get_spectrum([H0, omegabh2+delta1, omegaCh2, tau, A, ns])-get_spectrum([H0, omegabh2-delta1, omegaCh2, tau, A, ns]))/(2*delta1)\n",
    "    domegaCh2 = (get_spectrum([H0, omegabh2, omegaCh2+delta2, tau, A, ns])-get_spectrum([H0, omegabh2, omegaCh2-delta2, tau, A, ns]))/(2*delta2)\n",
    "    dtau = (get_spectrum([H0, omegabh2, omegaCh2, tau+delta3, A, ns])-get_spectrum([H0, omegabh2, omegaCh2, tau-delta3, A, ns]))/(2*delta3)\n",
    "    dA = (get_spectrum([H0, omegabh2, omegaCh2, tau, A+delta4, ns])-get_spectrum([H0, omegabh2, omegaCh2, tau, A-delta4, ns]))/(2*delta4)\n",
    "    dns = (get_spectrum([H0, omegabh2, omegaCh2, tau, A, ns+delta5])-get_spectrum([H0, omegabh2, omegaCh2, tau, A, ns-delta5]))/(2*delta5)    \n",
    "    \n",
    "    # Put derivatives into an array to use in LM method\n",
    "    derivs = np.zeros([len(dH0), len(params)]) # lmax is number of moments\n",
    "    derivs[:,0] = dH0\n",
    "    derivs[:,1] = domegabh2\n",
    "    derivs[:,2] = domegaCh2\n",
    "    derivs[:,3] = dtau\n",
    "    derivs[:,4] = dA\n",
    "    derivs[:,5] = dns\n",
    "    \n",
    "    return mod, derivs\n",
    "\n",
    "def update_lmbda(lmbda, success):\n",
    "    \"\"\"\n",
    "    Update lambda value for the Levenberg-Marquandt based on the success of the previous step. \n",
    "    Outline taken from class code.\n",
    "    \"\"\"\n",
    "    if success == False:\n",
    "        if lmbda == 0:\n",
    "            lmbda = 1\n",
    "        else:\n",
    "            lmbda = 2*lmbda\n",
    "    else:\n",
    "        if lmbda < 0.2:\n",
    "            lmbda = 0\n",
    "        else:\n",
    "            lmbda = lmbda/np.sqrt(2)\n",
    "    return lmbda"
   ]
  },
  {
   "cell_type": "code",
   "execution_count": 28,
   "id": "4a2986c4",
   "metadata": {},
   "outputs": [
    {
     "name": "stdout",
     "output_type": "stream",
     "text": [
      "Step 1: chi-squared change = -683.2500706686956\n",
      "Successful step, updating lambda to 0.\n",
      "Step 2: chi-squared change = -11.21583185912641\n",
      "Successful step, updating lambda to 0.\n",
      "Step 3: chi-squared change = -1.566520567547741\n",
      "Successful step, updating lambda to 0.\n",
      "Step 4: chi-squared change = -0.0179969052933302\n",
      "Successful step, updating lambda to 0.\n",
      "Step 5: chi-squared change = -0.000659116974020435\n",
      "Successful step, updating lambda to 0.\n",
      "Solution coverged after 5 iterations.\n"
     ]
    }
   ],
   "source": [
    "# Define data\n",
    "params = np.asarray([69,0.022,0.12,0.06,2.1e-9,0.95]) # initial guess params from script\n",
    "deltas = [0.1,1e-4,1e-3,1e-4,1e-11,1e-3]\n",
    "model, derivs = get_model_derivs(params, deltas) \n",
    "\n",
    "# chi-square for Gaussian, uncorrelated errors\n",
    "model, derivs = model[:len(spec)], derivs[:len(spec)]\n",
    "res = spec-model\n",
    "chisq = np.sum((res/errs)**2)\n",
    "Ninv = np.diag(1/errs**2) # put errors into matrix form for matrix multiplication\n",
    "chisq_accept = [float(chisq)] # all accepted chi-square values\n",
    "lmbda = 0 # initalize lambda = 0 \n",
    "chisq_threshold = 0.01\n",
    "num_iter = 50\n",
    "\n",
    "for i in range(num_iter):\n",
    "    '''\n",
    "    Equation to solve: (J^T @ N^{-1} @ J + lambda*diag(J^T @ N^{-1} @ J))*dp =  J^T @ N^{-1} @ (y-y(p)) for\n",
    "    J = Jacobian, N = 1/errors\n",
    "    '''\n",
    "    rhs = derivs.T@Ninv@res #(derivs.T/errs)@ res\n",
    "    lhs = derivs.T@Ninv@derivs + lmbda*np.diag(np.diag(derivs.T@Ninv@derivs))\n",
    "    lhs_inv = np.linalg.inv(lhs)\n",
    "    new_cov = lhs_inv\n",
    "    new_params = params + lhs_inv@rhs # old params + param_update\n",
    "    new_model, new_derivs = get_model_derivs(new_params, deltas)\n",
    "    new_model, new_derivs = new_model[:len(spec)], new_derivs[:len(spec)]\n",
    "    new_res =  spec - new_model\n",
    "    new_chisq = np.sum((new_res/errs)**2)\n",
    "    delta_chisq = new_chisq - chisq\n",
    "    print('Step '+repr(i+1)+': chi-squared change = '+repr(delta_chisq))\n",
    "    if new_chisq <= chisq: # update all variables given successful step\n",
    "        res = new_res\n",
    "        chisq = new_chisq\n",
    "        derivs = new_derivs\n",
    "        params = new_params\n",
    "        cov = new_cov\n",
    "        lmbda = update_lmbda(lmbda, success=True)\n",
    "        print('Successful step, updating lambda to '+repr(lmbda)+'.')\n",
    "        chisq_accept.append(float(chisq)) # keep list of accepted chi-square values\n",
    "\n",
    "        # Stop once the delta_chisq < chisq_threshold and lmbda = 0 (and not the first step)\n",
    "        if  (i > 0) and (lmbda == 0) and (np.abs(delta_chisq) < chisq_threshold):\n",
    "            print('Solution coverged after '+repr(i+1)+' iterations.')\n",
    "            break\n",
    "    else:\n",
    "        lmbda = update_lmbda(lmbda, success=False) # update lmbda given unsuccessful steps\n",
    "        print('Unsuccessful step, updating lambda to '+repr(lmbda)+'.')\n",
    "\n",
    "# Now write the best fit params and their errors to a txt file\n",
    "\n",
    "fobj = open(r\"planck_fit_params.txt\",\"w\")\n",
    "string = ''\n",
    "params_name = ['H0: ', 'Omegabh2: ', 'OmegaCh2: ', 'tau: ', 'Amp: ', 'ns: ']\n",
    "for i in range(len(params)):\n",
    "    string += params_name[i] + str(params[i])+' +/- ' + str(np.sqrt(np.abs(np.diag(cov)))[i]) + '\\n'\n",
    "fobj.write(string)\n",
    "fobj.close()"
   ]
  },
  {
   "cell_type": "code",
   "execution_count": 34,
   "id": "bbfa2fd0",
   "metadata": {},
   "outputs": [
    {
     "data": {
      "image/png": "[encoded data removed]",
      "text/plain": [
       "<Figure size 432x288 with 1 Axes>"
      ]
     },
     "metadata": {
      "needs_background": "light"
     },
     "output_type": "display_data"
    }
   ],
   "source": [
    "# Now plot Chi-square evolution to verify it has converged or is at least decreasing with st\n",
    "\n",
    "plt.plot(chisq_accept, 'r*-')\n",
    "plt.xlabel('Iteration Number', fontsize=18)\n",
    "plt.ylabel('$\\chi^2$', fontsize=18)\n",
    "plt.title('$\\chi^2$ for Levenberg-Marquardt', fontsize=18);"
   ]
  },
  {
   "cell_type": "markdown",
   "id": "dee0e2a3",
   "metadata": {},
   "source": [
    "# Q3) Write an MCMC sampler. Draw trial steps from curvature matrix from Q2. Save your chain, including the corresponding $\\chi^2$ values in planck_chain.txt. Explain why you think your chains have converged. What is your estimate on the mean value of dark energy $\\Omega_{\\Lambda}$ and its uncertainty (given $\\Omega_{b}$+$\\Omega_{C}$+$\\Omega_{\\Lambda}$=1)."
   ]
  },
  {
   "cell_type": "markdown",
   "id": "265b60ef",
   "metadata": {},
   "source": [
    "To verify chain the has converged, look at the $\\chi^2$ evolution with time (steps). If $\\chi^2$ has stabilized by the end of the chain, remaining relatively constant over a significant number of steps, we can say with decent confidence that the chain has converged. Therefore, plotting $\\chi^2$ vs step number, we see the following."
   ]
  },
  {
   "cell_type": "markdown",
   "id": "d7f68058",
   "metadata": {},
   "source": [
    "To estimate the mean value of the dark energy, we can consider the formula, \n",
    "\n",
    "\\begin{equation}\n",
    "\\Omega_{b}+\\Omega_{C}+\\Omega_{\\Lambda}=1 \\implies \\Omega_{\\Lambda}=1 - \\Omega_{b} - \\Omega_{C}\n",
    "\\end{equation}\n",
    "\n",
    "where we have solved for $\\Omega_{b}h^2$ and $\\Omega_{C}h^2$, for $h=H_0/100$, where we have also estimate $H_0$. Therefore, we can estimate $\\Omega_{\\Lambda}$ as, \n",
    "\n",
    "\n",
    "\\begin{equation}\n",
    "\\Omega_{\\Lambda}= 1 - \\frac{100^2 \\Omega_{b} h^2}{H_0^2} - \\frac{100^2 \\Omega_{C} h^2}{H_0^2} \n",
    "\\end{equation}\n",
    "\n",
    "and its uncertainty as,\n",
    "\n",
    "\\begin{equation}\n",
    "\\delta \\Omega_{\\Lambda} = \\sqrt{\\left(\\frac{d\\Omega_{\\Lambda}}{d\\Omega_{b}h^2} \\delta \\Omega_{b}h^2\\right)^2 + \\left(\\frac{d\\Omega_{\\Lambda}}{d\\Omega_{C}h^2} \\delta \\Omega_{C}h^2\\right)^2 + \\left(\\frac{d\\Omega_{\\Lambda}}{dH_0}\\delta H_0\\right)^2}.\n",
    "\\end{equation}"
   ]
  },
  {
   "cell_type": "code",
   "execution_count": 64,
   "id": "5e7abb5c",
   "metadata": {},
   "outputs": [],
   "source": []
  },
  {
   "cell_type": "code",
   "execution_count": 84,
   "id": "f89ebd84",
   "metadata": {},
   "outputs": [
    {
     "name": "stdout",
     "output_type": "stream",
     "text": [
      "[-9.36030469e+03  8.79400040e+06 -4.71920490e+06 -1.68257215e+06\n",
      "  3.97217431e+14  4.95751450e+05] \n",
      " [-9.36030469e+03  8.79400040e+06 -4.71920490e+06 -1.68257215e+06\n",
      "  3.97217431e+14  4.95751450e+05]\n",
      "NOOO\n",
      "NOOO\n",
      "NOOO\n",
      "NOOO\n",
      "NOOO\n",
      "NOOO\n"
     ]
    }
   ],
   "source": []
  },
  {
   "cell_type": "code",
   "execution_count": 91,
   "id": "d757e412",
   "metadata": {},
   "outputs": [
    {
     "name": "stdout",
     "output_type": "stream",
     "text": [
      "[ 1.48410157e+01  1.34181249e+04 -3.60436700e+03 -6.86229266e+02\n",
      " -2.45415362e+11  5.85416405e+02]\n",
      "[ 1.48410157e+01  1.34181249e+04 -3.60436700e+03 -6.86229266e+02\n",
      " -2.45415362e+11  5.85416405e+02]\n"
     ]
    }
   ],
   "source": [
    "Ninv = np.linalg.inv(np.diag(errs))\n",
    "print(derivs.T@Ninv@res)\n",
    "print((derivs.T/errs @ res))"
   ]
  },
  {
   "cell_type": "code",
   "execution_count": 95,
   "id": "2e3f3636",
   "metadata": {},
   "outputs": [],
   "source": [
    "fobj = open(r\"planck_fit_params.txt\",\"w\")\n",
    "string = ''\n",
    "params_name = ['H0: ', 'Omegabh2: ', 'OmegaCh2: ', 'tau: ', 'Amp: ', 'ns: ']\n",
    "for i in range(len(params)):\n",
    "    string += params_name[i] + str(params[i])+' +/- ' + str(np.sqrt(np.abs(np.diag(cov)))[i]) + '\\n'\n",
    "fobj.write(string)\n",
    "fobj.close()"
   ]
  },
  {
   "cell_type": "code",
   "execution_count": 7,
   "id": "21373e72",
   "metadata": {},
   "outputs": [],
   "source": [
    "Ninv = np.diag(1/errs**2)\n",
    "Ninv2 = np.linalg.inv(np.diag(errs**2))"
   ]
  },
  {
   "cell_type": "code",
   "execution_count": 8,
   "id": "b20b1a61",
   "metadata": {},
   "outputs": [
    {
     "name": "stdout",
     "output_type": "stream",
     "text": [
      "[[9.03345599e-06 0.00000000e+00 0.00000000e+00 ... 0.00000000e+00\n",
      "  0.00000000e+00 0.00000000e+00]\n",
      " [0.00000000e+00 1.44674147e-06 0.00000000e+00 ... 0.00000000e+00\n",
      "  0.00000000e+00 0.00000000e+00]\n",
      " [0.00000000e+00 0.00000000e+00 4.33503802e-06 ... 0.00000000e+00\n",
      "  0.00000000e+00 0.00000000e+00]\n",
      " ...\n",
      " [0.00000000e+00 0.00000000e+00 0.00000000e+00 ... 8.10013313e-05\n",
      "  0.00000000e+00 0.00000000e+00]\n",
      " [0.00000000e+00 0.00000000e+00 0.00000000e+00 ... 0.00000000e+00\n",
      "  8.05408124e-05 0.00000000e+00]\n",
      " [0.00000000e+00 0.00000000e+00 0.00000000e+00 ... 0.00000000e+00\n",
      "  0.00000000e+00 8.01246166e-05]] [[9.03345599e-06 0.00000000e+00 0.00000000e+00 ... 0.00000000e+00\n",
      "  0.00000000e+00 0.00000000e+00]\n",
      " [0.00000000e+00 1.44674147e-06 0.00000000e+00 ... 0.00000000e+00\n",
      "  0.00000000e+00 0.00000000e+00]\n",
      " [0.00000000e+00 0.00000000e+00 4.33503802e-06 ... 0.00000000e+00\n",
      "  0.00000000e+00 0.00000000e+00]\n",
      " ...\n",
      " [0.00000000e+00 0.00000000e+00 0.00000000e+00 ... 8.10013313e-05\n",
      "  0.00000000e+00 0.00000000e+00]\n",
      " [0.00000000e+00 0.00000000e+00 0.00000000e+00 ... 0.00000000e+00\n",
      "  8.05408124e-05 0.00000000e+00]\n",
      " [0.00000000e+00 0.00000000e+00 0.00000000e+00 ... 0.00000000e+00\n",
      "  0.00000000e+00 8.01246166e-05]]\n"
     ]
    }
   ],
   "source": [
    "print(Ninv, Ninv2)"
   ]
  },
  {
   "cell_type": "code",
   "execution_count": null,
   "id": "e932491d",
   "metadata": {},
   "outputs": [],
   "source": []
  }
 ],
 "metadata": {
  "kernelspec": {
   "display_name": "Python 3",
   "language": "python",
   "name": "python3"
  },
  "language_info": {
   "codemirror_mode": {
    "name": "ipython",
    "version": 3
   },
   "file_extension": ".py",
   "mimetype": "text/x-python",
   "name": "python",
   "nbconvert_exporter": "python",
   "pygments_lexer": "ipython3",
   "version": "3.8.8"
  }
 },
 "nbformat": 4,
 "nbformat_minor": 5
}

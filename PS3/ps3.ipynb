{
 "cells": [
  {
   "cell_type": "code",
   "execution_count": 1,
   "id": "d407d0ba",
   "metadata": {},
   "outputs": [],
   "source": [
    "import numpy as np\n",
    "import matplotlib.pyplot as plt"
   ]
  },
  {
   "cell_type": "markdown",
   "id": "ab06d3e1",
   "metadata": {},
   "source": [
    "# Q1) Write an RK4 integrator with prototype to take one step. Use $\\frac{dy}{dx} = \\frac{y}{1+x^2}$, from $x=-20$ to $x=20$, with $y(-20)=1$ using $200$ steps."
   ]
  },
  {
   "cell_type": "code",
   "execution_count": 2,
   "id": "c5aa57ec",
   "metadata": {},
   "outputs": [],
   "source": [
    "def rk4_step(fun,x,y,h):\n",
    "    k1=fun(x,y)\n",
    "    k2=fun(x+h/2,y+h*k1/2)\n",
    "    k3=fun(x+h/2,y+h*k2/2)\n",
    "    k4=fun(x+h,y+h*k3)\n",
    "    dy=h*(k1+2*k2+2*k3+k4)/6\n",
    "    return y+dy\n",
    "    \n",
    "def func(x,y):\n",
    "    dydx=y/(1+x**2)\n",
    "    return dydx"
   ]
  },
  {
   "cell_type": "code",
   "execution_count": 3,
   "id": "32143c3a",
   "metadata": {},
   "outputs": [
    {
     "name": "stdout",
     "output_type": "stream",
     "text": [
      "396.56927181204424\n",
      "[ 1.          1.00050391  1.00101833  1.00154361  1.00208008  1.00262811\n",
      "  1.00318808  1.00376039  1.00434543  1.00494365  1.00555548  1.00618141\n",
      "  1.00682193  1.00747754  1.00814879  1.00883624  1.00954049  1.01026215\n",
      "  1.01100189  1.01176039  1.01253837  1.01333659  1.01415584  1.01499697\n",
      "  1.01586088  1.01674848  1.01766077  1.01859879  1.01956365  1.0205565\n",
      "  1.02157859  1.02263122  1.02371578  1.02483374  1.02598666  1.02717621\n",
      "  1.02840416  1.02967238  1.0309829   1.03233785  1.03373953  1.03519039\n",
      "  1.03669306  1.03825035  1.0398653   1.04154115  1.0432814   1.04508983\n",
      "  1.0469705   1.04892781  1.05096654  1.05309185  1.05530935  1.05762514\n",
      "  1.06004589  1.06257884  1.06523197  1.06801397  1.07093443  1.07400388\n",
      "  1.07723395  1.08063752  1.08422885  1.08802383  1.09204013  1.09629757\n",
      "  1.10081836  1.10562748  1.1107532   1.11622754  1.12208693  1.12837305\n",
      "  1.13513372  1.14242412  1.15030819  1.15886047  1.16816834  1.17833484\n",
      "  1.18948235  1.20175717  1.21533563  1.230432    1.24730905  1.26629215\n",
      "  1.28778862  1.31231426  1.34053071  1.37329847  1.41175385  1.4574221\n",
      "  1.51238721  1.57955043  1.66302978  1.76878221  1.90556779  2.08639904\n",
      "  2.33053103  2.66556542  3.12779212  3.75630822  4.57602985  5.57463551\n",
      "  6.69483404  7.85576262  8.98509778 10.03645456 10.98887655 11.83868148\n",
      " 12.59150581 13.25696784 13.84569312 14.36786856 14.83264892 15.24799566\n",
      " 15.62071579 15.95658129 16.26047079 16.53650712 16.78818029 17.01845296\n",
      " 17.22984884 17.42452613 17.60433789 17.77088176 17.92554081 18.06951722\n",
      " 18.20386    18.32948802 18.44720912 18.557736   18.66169955 18.75966011\n",
      " 18.85211685 18.93951578 19.02225656 19.1006983  19.1751645  19.24594728\n",
      " 19.31331112 19.37749598 19.43872004 19.49718214 19.55306381 19.60653114\n",
      " 19.65773635 19.70681921 19.75390828 19.79912197 19.8425696  19.88435215\n",
      " 19.92456311 19.96328912 20.0006106  20.03660229 20.07133375 20.10486977\n",
      " 20.13727082 20.16859334 20.19889013 20.2282106  20.25660105 20.2841049\n",
      " 20.31076292 20.33661344 20.36169249 20.38603401 20.40966997 20.43263055\n",
      " 20.45494422 20.47663786 20.49773691 20.51826543 20.5382462  20.55770082\n",
      " 20.57664975 20.59511242 20.61310727 20.63065183 20.64776275 20.6644559\n",
      " 20.68074637 20.69664851 20.71217604 20.72734202 20.7421589  20.75663859\n",
      " 20.77079245 20.78463134 20.79816564 20.81140529 20.82435978 20.83703824\n",
      " 20.84944936 20.86160151 20.8735027  20.88516062 20.89658264 20.90777583\n",
      " 20.91874701 20.9295027  20.94004919]\n"
     ]
    }
   ],
   "source": [
    "# Now define linspace and integrate for 200 steps\n",
    "\n",
    "npt = 201\n",
    "xx = np.linspace(-20, 20, npt)\n",
    "h = (xx[1]-xx[0]) # step size\n",
    "yy = np.zeros(npt)\n",
    "y0 = 1 # initial condition\n",
    "yy[0] = y0\n",
    "\n",
    "for i in range(npt-1): # iterate over all points after initial point, integrating\n",
    "    yy[i+1] = rk4_step(func,xx[i],yy[i],h)\n",
    "\n",
    "#fig, ax = plt.subplots(figsize=[14, 8])\n",
    "integral = h*np.sum(yy)\n",
    "print(integral)\n",
    "print(yy)"
   ]
  },
  {
   "cell_type": "markdown",
   "id": "45bbfb5e",
   "metadata": {},
   "source": [
    "Now write another stepper that takes a step of length $h$, compares that to two steps of $h/2$, and uses them to cancel out the leading-order error term from RK4. How many function evaluations per step does this one use? Use this modified stepper to carry out the same ODE solution using the $\\textit{same number of function evaluations}$ as the original. Which is more accurate?"
   ]
  },
  {
   "cell_type": "code",
   "execution_count": 4,
   "id": "9580f3b8",
   "metadata": {},
   "outputs": [],
   "source": [
    "def rk4_stepd(fun,x,y,h):\n",
    "    # one full step\n",
    "    fstep = rk4_step(fun, x, y, h)\n",
    "    # two half-steps\n",
    "    hstep1 = rk4_step(fun, x, y, h/2)\n",
    "    hstep2 = rk4_step(fun, x+h/2, hstep1, h/2)\n",
    "    return hstep1+hstep2 +(hstep1+hstep2-fstep)/15"
   ]
  },
  {
   "cell_type": "code",
   "execution_count": 5,
   "id": "c5c4442c",
   "metadata": {},
   "outputs": [
    {
     "name": "stdout",
     "output_type": "stream",
     "text": [
      "[1.00000000e+00 2.06743794e+00 4.27433207e+00 8.83705249e+00\n",
      " 1.82704865e+01 3.77742981e+01 7.80991706e+01 1.61473139e+02\n",
      " 3.33855186e+02 6.90271699e+02 1.42720464e+03 2.95091574e+03\n",
      " 6.10143374e+03 1.26157093e+04 2.60853277e+04 5.39368945e+04\n",
      " 1.11527194e+05 2.30611517e+05 4.76855493e+05 9.86048712e+05\n",
      " 2.03899401e+06 4.21638010e+06 8.71906718e+06 1.80304683e+07\n",
      " 3.72864439e+07 7.71084865e+07 1.59463370e+08 3.29782459e+08\n",
      " 6.82028218e+08 1.41054081e+09 2.91727826e+09 6.03363897e+09\n",
      " 1.24793067e+10 2.58114081e+10 5.33879807e+10 1.10429812e+11\n",
      " 2.28423469e+11 4.72505875e+11 9.77431608e+11 2.02198924e+12\n",
      " 4.18297486e+12 8.65378944e+12 1.79037002e+13 3.70420896e+13\n",
      " 7.66417163e+13 1.58581656e+14 3.28140358e+14 6.79025956e+14\n",
      " 1.40518749e+15 2.90806808e+15 6.01864308e+15 1.24571233e+16\n",
      " 2.57847922e+16 5.33750001e+16 1.10494927e+17 2.28759408e+17\n",
      " 4.73641688e+17 9.80748279e+17 2.03097434e+18 4.20623351e+18\n",
      " 8.71219257e+18 1.80472109e+19 3.73890991e+19 7.74704933e+19\n",
      " 1.60541987e+20 3.32741537e+20 6.89758620e+20 1.43009639e+21\n",
      " 2.96564125e+21 6.15127303e+21 1.27618445e+22 2.64834212e+22\n",
      " 5.49741404e+22 1.14150984e+23 2.37111580e+23 4.92714174e+23\n",
      " 1.02429846e+24 2.13044518e+24 4.43357121e+24 9.23226606e+24\n",
      " 1.92385276e+25 4.01225890e+25 8.37554737e+25 1.75028655e+26\n",
      " 3.66231192e+26 7.67446264e+26 1.61103931e+27 3.38905332e+27\n",
      " 7.14746414e+27 1.51204601e+28 3.21087237e+28 6.85048423e+28\n",
      " 1.47018932e+29 3.17867578e+29 6.93741932e+29 1.53214002e+30\n",
      " 3.43393647e+30 7.83261209e+30 1.82123190e+31 4.31077930e+31\n",
      " 1.03217222e+32 2.47379091e+32 5.86985129e+32 1.36917245e+33\n",
      " 3.13283050e+33 7.04090627e+33 1.55853660e+34 3.40769210e+34\n",
      " 7.37838315e+34 1.58529899e+35 3.38537263e+35 7.19421921e+35\n",
      " 1.52284456e+36 3.21322525e+36 6.76221061e+36 1.42001536e+37\n",
      " 2.97651909e+37 6.22958534e+37 1.30209959e+38 2.71859872e+38\n",
      " 5.67059462e+38 1.18181620e+39 2.46124704e+39 5.12251364e+39\n",
      " 1.06553181e+40 2.21530205e+40 4.60369491e+40 9.56329779e+40\n",
      " 1.98588506e+41 4.12250532e+41 8.55544234e+41 1.77504605e+42\n",
      " 3.68190905e+42 7.63557812e+42 1.58315832e+43 3.28191665e+43\n",
      " 6.80233422e+43 1.40968271e+44 2.92094208e+44 6.05156000e+44\n",
      " 1.25359939e+45 2.59657601e+45 5.37771268e+45 1.11365732e+46\n",
      " 2.30603470e+46 4.77466596e+46 9.88519917e+46 2.04642258e+47\n",
      " 4.23618271e+47 8.76850117e+47 1.81488480e+48 3.75618823e+48\n",
      " 7.77359068e+48 1.60869373e+49 3.32892256e+49 6.88832760e+49\n",
      " 1.42529495e+50 2.94901884e+50 6.10145103e+50 1.26232843e+51\n",
      " 2.61153622e+51 5.40262674e+51 1.11763451e+52 2.31196489e+52\n",
      " 4.78244390e+52 9.89250636e+52 2.04621445e+53 4.23238170e+53\n",
      " 8.75402676e+53 1.81059256e+54 3.74475879e+54 7.74493237e+54\n",
      " 1.60177850e+55 3.31267408e+55 6.85088569e+55 1.41679437e+56\n",
      " 2.92994405e+56 6.05904987e+56 1.25297586e+57 2.59104002e+57\n",
      " 5.35795464e+57 1.10794366e+58 2.29102741e+58 4.73736747e+58\n",
      " 9.79576251e+58 2.02550820e+59 4.18817227e+59 8.65984302e+59\n",
      " 1.79056720e+60 3.70225663e+60 7.65487066e+60 1.58272254e+61\n",
      " 3.27240808e+61 6.76590661e+61 1.39888028e+62 2.89221934e+62\n",
      " 5.97968293e+62 1.23629313e+63 2.55600224e+63 5.28442321e+63\n",
      " 1.09252313e+64]\n"
     ]
    }
   ],
   "source": [
    "npt = 201\n",
    "xx = np.linspace(-20, 20, npt)\n",
    "h = (xx[1]-xx[0]) # step size\n",
    "yy = np.zeros(npt)\n",
    "y0 = 1 # initial condition\n",
    "yy[0] = y0\n",
    "\n",
    "for i in range(npt-1): # iterate over all points after initial point, integrating\n",
    "    yy[i+1] = rk4_stepd(func,xx[i],yy[i],h)\n",
    "    \n",
    "print()"
   ]
  },
  {
   "cell_type": "markdown",
   "id": "698e23c1",
   "metadata": {},
   "source": [
    "# Q2a) Write a program to solve for the decay of products of U238 (see slides). You can use the ODE solver from scipy, but need to set up problem properly. Include all decay products in the chain. Assume you start from a sample of pure U238. What solver would you use for this problem?"
   ]
  },
  {
   "cell_type": "markdown",
   "id": "ee44f77b",
   "metadata": {},
   "source": [
    "The $i^{th}$ nuclide's decay may be written as $\\frac{dN_i}{dt} = \\lambda_{i-1} N_{i-1} - \\lambda_i N_i$, whilst the $0^{th}$ is $\\frac{dN_0}{dt} = -\\lambda_0 N_0$, and the last decay is simply $\\frac{dN_{n-1}}{dt} = \\lambda_{n-1} N_{n-1}$, given the first decay has no preceding nuclide and the last decay results in a stable nuclide. Taking $\\lambda = \\tau^{-1}$ for $\\tau$ being the the mean lifetime of the nuclide we can compute its half-life as $t_{1/2} = \\frac{\\text{ln}(2)}{\\lambda}$, and hence replace $\\lambda_i$ with $\\frac{\\text{ln}(2)}{t_{1/2, i}}$ in the previously stated equations."
   ]
  },
  {
   "cell_type": "code",
   "execution_count": 6,
   "id": "fe928d20",
   "metadata": {},
   "outputs": [],
   "source": [
    "from scipy import integrate"
   ]
  },
  {
   "cell_type": "code",
   "execution_count": 7,
   "id": "6a651a04",
   "metadata": {},
   "outputs": [],
   "source": [
    "# Make list with half-lives of different nuclides (in years)\n",
    "\n",
    "half_lives = [4.468e9, 24.10/365, 6.70/ 24 /365, 245500, 75380, 1600, 38235/365, 3.10/60/24/365, 26.8/60/24/365,\n",
    "             19.9/60/24/365, 164.3*1e-6 /60/60/24/365, 22.3, 5015, 138.376/365]\n",
    "\n",
    "# Define function for the decay of a multiple nuclides\n",
    "\n",
    "def decay(t, N, half_life=half_lives):\n",
    "\n",
    "    dNdt = np.zeros(len(half_life)+1)\n",
    "    A = np.log(2) # constant for half-life\n",
    "    \n",
    "    for i in range(len(dNdt)): # iterate through nuclide decays\n",
    "        if i == 0:\n",
    "            dNdt[0] = -A*N[0]/half_life[0] # first decay\n",
    "        elif i == (len(half_life)):\n",
    "            dNdt[-1] = A*N[-2]/half_life[-2] # last decay\n",
    "        else:\n",
    "            dNdt[i] = A*(N[i-1]/half_life[i-1] - N[i]/half_life[i])\n",
    "    return dNdt"
   ]
  },
  {
   "cell_type": "markdown",
   "id": "5c17e9d3",
   "metadata": {},
   "source": [
    "Now that we have defined our decay process and calculated the half-lives from the slides in class in terms of Earth-years, we can numerically integrate using scipy integration. Given the question states we start with pure U238, we set this initial value to 1 and leave all other nuclides as 0. To choose the type of solver, we consider what we saw in class where the RK4 algorithm was very slow and required several orders of magnitude larger evaluations compared to the Radau method. Therefore, we will use the Radau method here, and integrate over a time interval of comparable magnitude to the half-life of U238, as if we set this interval to be several orders of magnitude smaller, there will be no evolution of the system as the first nuclide in the chain will not have decayed. In this instance, we will conservatively choose $10^{10}$, which is approximately two half-lives of U238."
   ]
  },
  {
   "cell_type": "code",
   "execution_count": 21,
   "id": "554156dc",
   "metadata": {},
   "outputs": [
    {
     "data": {
      "image/png": "[encoded data removed]",
      "text/plain": [
       "<Figure size 1008x576 with 1 Axes>"
      ]
     },
     "metadata": {
      "needs_background": "light"
     },
     "output_type": "display_data"
    }
   ],
   "source": [
    "# Define the starting point, where we have pure U238, set to 1 for simplicity\n",
    "\n",
    "zeros = np.zeros(len(half_lives)+1)\n",
    "zeros[0] = 1\n",
    "N0 = zeros\n",
    "t0,t1 = 0, 1e10 # time interval bounds\n",
    "#teval = np.linspace(t0, t1, 100) # times to store solution at\n",
    "\n",
    "ans_stiff = integrate.solve_ivp(decay,[t0, t1], N0, method='Radau')# t_eval=teval)\n",
    "fig, ax = plt.subplots(figsize=[14, 8])\n",
    "ax.plot(ans_stiff.t, ans_stiff.y[0,:], '*-')\n",
    "ax.set_ylabel('Fraction of nuclide remaining', fontsize=16)\n",
    "ax.set_xlabel('time [years]', fontsize=16)\n",
    "#ax.set_yscale('log')\n",
    "ax.set_xscale('log')\n",
    "ax.set_title('U238 decay', fontsize=16);"
   ]
  },
  {
   "cell_type": "markdown",
   "id": "6b055160",
   "metadata": {},
   "source": [
    "# Q2b) Plot the ratio of Pb206 to U238 as a function of time over a region where it's interesting. Does this make sense analytically? (All half-lives are short compared to U238, so you can approximate the U238 decaying instantly to lead). Now plot the ratio of Thorium 230 to U234 over a region where that is interesting. "
   ]
  },
  {
   "cell_type": "markdown",
   "id": "ea123f74",
   "metadata": {},
   "source": [
    "Pb206 is the last element in the chain, and therefore we can compute the ratio of Pb206 to U238 by dividing the last element by the first element as a function of time (which we have already computed above)."
   ]
  },
  {
   "cell_type": "code",
   "execution_count": 23,
   "id": "78f09295",
   "metadata": {},
   "outputs": [
    {
     "data": {
      "image/png": "[encoded data removed]",
      "text/plain": [
       "<Figure size 1008x576 with 1 Axes>"
      ]
     },
     "metadata": {
      "needs_background": "light"
     },
     "output_type": "display_data"
    }
   ],
   "source": [
    "Pb206 = ans_stiff.y[-1,:]\n",
    "U238 = ans_stiff.y[0,:]\n",
    "\n",
    "fig, ax = plt.subplots(figsize=[14, 8])\n",
    "ax.plot(ans_stiff.t[5:], (Pb206/U238)[5:], '*-')\n",
    "ax.set_ylabel('Pb206:U238', fontsize=16)\n",
    "ax.set_xlabel('time [years]', fontsize=16)\n",
    "ax.set_title('Pb206 to U238 Ratio', fontsize=16)\n",
    "ax.set_yscale('log')\n",
    "ax.set_xscale('log');"
   ]
  },
  {
   "cell_type": "markdown",
   "id": "04d8e541",
   "metadata": {},
   "source": [
    "We see the progressive increase in the ratio with time as more Pb206 is formed and more U238 decays. Over an interval of $\\approx 1$ billion years, the ratio jumps from $\\approx 10^{-12}$ to $\\approx 10^{-4}$."
   ]
  },
  {
   "cell_type": "code",
   "execution_count": 24,
   "id": "6558a0f6",
   "metadata": {},
   "outputs": [
    {
     "name": "stderr",
     "output_type": "stream",
     "text": [
      "<ipython-input-24-901844d9f150>:5: RuntimeWarning: invalid value encountered in true_divide\n",
      "  ax.plot(ans_stiff.t[:8], (Th230/U234)[:8], '*-')\n"
     ]
    },
    {
     "data": {
      "image/png": "[encoded data removed]",
      "text/plain": [
       "<Figure size 1008x576 with 1 Axes>"
      ]
     },
     "metadata": {
      "needs_background": "light"
     },
     "output_type": "display_data"
    }
   ],
   "source": [
    "Th230 = ans_stiff.y[4,:]\n",
    "U234 = ans_stiff.y[3,:]\n",
    "\n",
    "fig, ax = plt.subplots(figsize=[14, 8])\n",
    "ax.plot(ans_stiff.t[:8], (Th230/U234)[:8], '*-')\n",
    "ax.set_ylabel('Th230:U234', fontsize=16)\n",
    "ax.set_xlabel('time [years]', fontsize=16)\n",
    "ax.set_title('Th230 to U234 ratio', fontsize=16)\n",
    "ax.set_yscale('log')\n",
    "ax.set_xscale('log');"
   ]
  },
  {
   "cell_type": "markdown",
   "id": "c4f2a96c",
   "metadata": {},
   "source": [
    "In this instance, the ratio evolves over a much smaller timescale and earlier on given the two nuclides are further up in the chain than Pb206. Over a period of $\\approx 10^5$ years, the ratio increases from $10^{-6} \\rightarrow 10^{-1}$."
   ]
  },
  {
   "cell_type": "markdown",
   "id": "7328031f",
   "metadata": {},
   "source": [
    "# Q3a) Look at file dish_zenith.txt, containing data for prototype telescope dish. The end result is that dish_zenith.txt contains the (x,y,z) positions in mm of a few hundred targets placed on the dish. The ideal telescope dish should be a rotationally symmetric paraboloid. We will try to measure the shape of the paraboloid, and see how well we did. For the dish pointing in the z-direction, we have a rotationally symmetric paraboloid, $z - z_0 = a((x-x_0)^2 + (y-y_0)^2$ where we need to solve for $x_0, y_0, x_0, a$. Show that we can pick a set of new parameters that make the problem linear. What are these new parameters and how to they relate to the old ones?"
   ]
  },
  {
   "cell_type": "markdown",
   "id": "ec924a96",
   "metadata": {},
   "source": [
    "We can pick a set of new parameters by expanding out the formula for the parabola and rearranging as such,\n",
    "\\begin{equation}\n",
    "z = a(x^2+y^2) - 2a x_0 x - 2a y_0 y + (z_0 + ax_0^2 + ay_0^2) \\\\\n",
    "\\implies z = A(x^2 + y^2) + Cx + Dy + E \\,\\,\\,\\, \\text{for} \\,\\,\\,\\, A = a, C = -2ax_0, D = -2ay_0, E = z_0+ax_0^2+ay_0^2.\n",
    "\\end{equation}\n",
    "\n",
    "Therefore, given we now have a linear equation we can rewrite our paraboloid equation with these new parameters, which are related to the old parameters $(x_0, y_0, z_0, a)$ by the following set of equations;\n",
    "\n",
    "\\begin{equation}\n",
    "x_0 = \\frac{C}{-2A}, \\,\\, y_0 = \\frac{D}{-2A}, \\,\\, z_0 = E - \\frac{C}{4A} - \\frac{D}{4A}, \\,\\, a = A.\n",
    "\\end{equation}"
   ]
  },
  {
   "cell_type": "code",
   "execution_count": 27,
   "id": "9f71e839",
   "metadata": {},
   "outputs": [],
   "source": [
    "def linear_paraboloid(x, y, A, C, D, E): # linearized equation z(x,y)\n",
    "    return A*x**2 + A*y**2 + C*x + D*y + E"
   ]
  },
  {
   "cell_type": "markdown",
   "id": "967263e9",
   "metadata": {},
   "source": [
    "# Q3b) Carry out the fit, what are the best-fit parameters?"
   ]
  },
  {
   "cell_type": "code",
   "execution_count": 30,
   "id": "0e4959eb",
   "metadata": {},
   "outputs": [],
   "source": [
    "# Load the new data\n",
    "data=np.loadtxt('dish_zenith.txt')\n",
    "xdat, ydat, zdat = data.T"
   ]
  },
  {
   "cell_type": "markdown",
   "id": "9cb6a3ff",
   "metadata": {},
   "source": [
    "As we saw in class, we can find the best-fitting model by minimizing chi-square, defined as $\\chi^2 = (d-A(m))^T N^{-1} (d-A(m))$, where $d$ is our data (in this case $z$) and $A(m)$ is our model that is dependent on the parameters $m$ (in this case we also have $x, y$ dependence). We take the result we derived in class for a linear least squares fit, where the best fit parameters $m$ as given by, \n",
    "\n",
    "\\begin{equation}\n",
    "m = (A^T N^{-1} A)^{-1} A^T N^{-1} d\n",
    "\\end{equation}\n",
    "\n",
    "where for the present we have assumed $N$ is the identity matrix. We also saw in class that the parameter covariance matrix is given by $(A^T N^{-1} A)^{-1}$, so we may estimate the errors on our final parameters as well."
   ]
  },
  {
   "cell_type": "code",
   "execution_count": 49,
   "id": "44ec8ea9",
   "metadata": {},
   "outputs": [],
   "source": [
    "# We define A to be an nxm matrix (for n data points and m parameters)\n",
    "\n",
    "def best_fit(x, y, z, num_params):\n",
    "    \n",
    "    A = np.zeros((len(x), num_params))\n",
    "    d = z\n",
    "    \n",
    "    for i in range(len(x)): # iterate through data points, populate A\n",
    "        A[i,0] = (x[i]**2 + y[i]**2)\n",
    "        A[i,1] = x[i]\n",
    "        A[i,2] = y[i]\n",
    "        A[i,3] = 1 # just a constant\n",
    "    \n",
    "    # Now given we have A and d calculate best fit params --> m\n",
    "    lhs_inv = np.linalg.inv(A.T@A)\n",
    "    m = lhs_inv@A.T@d\n",
    "    res = d - A@m\n",
    "    cov = lhs_inv/14\n",
    "    print(cov)\n",
    "    A,C,D,E = m\n",
    "    \n",
    "    # m is of the form [A, C, D, E] so we use the above formulas to get [x0,y0,z0,a]\n",
    "    x0,y0,z0,a = C/(-2*A), D/(-2*A), (E-C/(4*A)-D/(4*A)), A\n",
    "    \n",
    "    return m, [x0,y0,z0,a], res"
   ]
  },
  {
   "cell_type": "code",
   "execution_count": 50,
   "id": "8c5d78b1",
   "metadata": {},
   "outputs": [
    {
     "name": "stdout",
     "output_type": "stream",
     "text": [
      "[[ 2.09385854e-17  5.85601767e-16 -1.01265232e-15 -8.42685041e-11]\n",
      " [ 5.85601767e-16  7.86713496e-11  3.00286694e-12  9.26274158e-10]\n",
      " [-1.01265232e-15  3.00286694e-12  7.15295869e-11  6.02518068e-09]\n",
      " [-8.42685041e-11  9.26274158e-10  6.02518068e-09  4.89702845e-04]]\n",
      "Linearized Best fit parameters; A = 0.00016670445477401355, C = 0.0004535990279795366, D = -0.01941155885263565, E = -1512.3118166739077\n",
      "Original Best fit parameters; x0 = -1.3604886221980108, y0 = 58.22147608157856, z0 = -1483.8813229442173, a = 0.00016670445477401355\n"
     ]
    }
   ],
   "source": [
    "# Now we can get our best fit parameters for (x0, y0, z0, a)\n",
    "linearized_bfit_params, orig_bfit_params, res = best_fit(xdat,ydat,zdat, 4)\n",
    "\n",
    "print('Linearized Best fit parameters; A = ' + repr(linearized_bfit_params[0]) +', C = ' + repr(linearized_bfit_params[1]) +\n",
    "      ', D = ' + repr(linearized_bfit_params[2]) + ', E = ' + repr(linearized_bfit_params[3]))\n",
    "print('Original Best fit parameters; x0 = ' + repr(orig_bfit_params[0]) +', y0 = ' + repr(orig_bfit_params[1]) +\n",
    "      ', z0 = ' + repr(orig_bfit_params[2]) + ', a = ' + repr(orig_bfit_params[3]))"
   ]
  },
  {
   "cell_type": "markdown",
   "id": "f950dc5c",
   "metadata": {},
   "source": [
    "# Q3c) Estimate noise in the data, and from that, uncertainty in $a$. Our target focal length was 1.5 m. What did we actually get, and what is the error bar? When calculating the error bar for the focal length, feel free to approximate using a first-order Taylor expansion."
   ]
  },
  {
   "cell_type": "markdown",
   "id": "07398a1f",
   "metadata": {},
   "source": [
    "We know from class that to get the noise from a large number of data points (which we have here), we can take the noise to be the variance of the residuals (if the residuals are relatively constant). Therefore, we can compute the variance of the residuals as;\n",
    "\n",
    "\\begin{equation}\n",
    "\\sigma^2 = \\frac{1}{n} \\sum_{i=1}^n (d_i-A(m_{BF}))^2 \\,\\,\\,\\, \\text{for} \\,\\,\\,\\, m_{BF} = \\text{best fit parameters}.\n",
    "\\end{equation}\n",
    "\n",
    "From here, we can compute the uncertainty in our best fit parameters as $(A^T N^{-1} A)^{-1}$, where $N = \\sigma^2$ from above."
   ]
  },
  {
   "cell_type": "code",
   "execution_count": 48,
   "id": "40ce1bb9",
   "metadata": {},
   "outputs": [
    {
     "name": "stdout",
     "output_type": "stream",
     "text": [
      "3.768338648784729\n",
      "3.768338648784729\n"
     ]
    }
   ],
   "source": [
    "# Now compute the noise in the data given the residuals were calculated in the previous function\n",
    "\n",
    "N = (1/len(zdat))*np.sum(res**2) \n"
   ]
  },
  {
   "cell_type": "code",
   "execution_count": null,
   "id": "8031d268",
   "metadata": {},
   "outputs": [],
   "source": []
  }
 ],
 "metadata": {
  "kernelspec": {
   "display_name": "Python 3",
   "language": "python",
   "name": "python3"
  },
  "language_info": {
   "codemirror_mode": {
    "name": "ipython",
    "version": 3
   },
   "file_extension": ".py",
   "mimetype": "text/x-python",
   "name": "python",
   "nbconvert_exporter": "python",
   "pygments_lexer": "ipython3",
   "version": "3.8.8"
  }
 },
 "nbformat": 4,
 "nbformat_minor": 5
}

{
 "cells": [
  {
   "cell_type": "code",
   "execution_count": 1,
   "id": "d407d0ba",
   "metadata": {},
   "outputs": [],
   "source": [
    "import numpy as np\n",
    "import matplotlib.pyplot as plt"
   ]
  },
  {
   "cell_type": "markdown",
   "id": "ab06d3e1",
   "metadata": {},
   "source": [
    "# Q1) Write an RK4 integrator with prototype to take one step. Use $\\frac{dy}{dx} = \\frac{y}{1+x^2}$, from $x=-20$ to $x=20$, with $y(-20)=1$ using $200$ steps."
   ]
  },
  {
   "cell_type": "code",
   "execution_count": 2,
   "id": "c5aa57ec",
   "metadata": {},
   "outputs": [],
   "source": [
    "def rk4_step(fun,x,y,h):\n",
    "    k1=fun(x,y)\n",
    "    k2=fun(x+h/2,y+h*k1/2)\n",
    "    k3=fun(x+h/2,y+h*k2/2)\n",
    "    k4=fun(x+h,y+h*k3)\n",
    "    dy=h*(k1+2*k2+2*k3+k4)/6\n",
    "    return y+dy\n",
    "    \n",
    "def func(x,y):\n",
    "    dydx=y/(1+x**2)\n",
    "    return dydx"
   ]
  },
  {
   "cell_type": "code",
   "execution_count": 13,
   "id": "32143c3a",
   "metadata": {},
   "outputs": [
    {
     "name": "stdout",
     "output_type": "stream",
     "text": [
      "396.56927181204424\n",
      "[ 1.          1.00050391  1.00101833  1.00154361  1.00208008  1.00262811\n",
      "  1.00318808  1.00376039  1.00434543  1.00494365  1.00555548  1.00618141\n",
      "  1.00682193  1.00747754  1.00814879  1.00883624  1.00954049  1.01026215\n",
      "  1.01100189  1.01176039  1.01253837  1.01333659  1.01415584  1.01499697\n",
      "  1.01586088  1.01674848  1.01766077  1.01859879  1.01956365  1.0205565\n",
      "  1.02157859  1.02263122  1.02371578  1.02483374  1.02598666  1.02717621\n",
      "  1.02840416  1.02967238  1.0309829   1.03233785  1.03373953  1.03519039\n",
      "  1.03669306  1.03825035  1.0398653   1.04154115  1.0432814   1.04508983\n",
      "  1.0469705   1.04892781  1.05096654  1.05309185  1.05530935  1.05762514\n",
      "  1.06004589  1.06257884  1.06523197  1.06801397  1.07093443  1.07400388\n",
      "  1.07723395  1.08063752  1.08422885  1.08802383  1.09204013  1.09629757\n",
      "  1.10081836  1.10562748  1.1107532   1.11622754  1.12208693  1.12837305\n",
      "  1.13513372  1.14242412  1.15030819  1.15886047  1.16816834  1.17833484\n",
      "  1.18948235  1.20175717  1.21533563  1.230432    1.24730905  1.26629215\n",
      "  1.28778862  1.31231426  1.34053071  1.37329847  1.41175385  1.4574221\n",
      "  1.51238721  1.57955043  1.66302978  1.76878221  1.90556779  2.08639904\n",
      "  2.33053103  2.66556542  3.12779212  3.75630822  4.57602985  5.57463551\n",
      "  6.69483404  7.85576262  8.98509778 10.03645456 10.98887655 11.83868148\n",
      " 12.59150581 13.25696784 13.84569312 14.36786856 14.83264892 15.24799566\n",
      " 15.62071579 15.95658129 16.26047079 16.53650712 16.78818029 17.01845296\n",
      " 17.22984884 17.42452613 17.60433789 17.77088176 17.92554081 18.06951722\n",
      " 18.20386    18.32948802 18.44720912 18.557736   18.66169955 18.75966011\n",
      " 18.85211685 18.93951578 19.02225656 19.1006983  19.1751645  19.24594728\n",
      " 19.31331112 19.37749598 19.43872004 19.49718214 19.55306381 19.60653114\n",
      " 19.65773635 19.70681921 19.75390828 19.79912197 19.8425696  19.88435215\n",
      " 19.92456311 19.96328912 20.0006106  20.03660229 20.07133375 20.10486977\n",
      " 20.13727082 20.16859334 20.19889013 20.2282106  20.25660105 20.2841049\n",
      " 20.31076292 20.33661344 20.36169249 20.38603401 20.40966997 20.43263055\n",
      " 20.45494422 20.47663786 20.49773691 20.51826543 20.5382462  20.55770082\n",
      " 20.57664975 20.59511242 20.61310727 20.63065183 20.64776275 20.6644559\n",
      " 20.68074637 20.69664851 20.71217604 20.72734202 20.7421589  20.75663859\n",
      " 20.77079245 20.78463134 20.79816564 20.81140529 20.82435978 20.83703824\n",
      " 20.84944936 20.86160151 20.8735027  20.88516062 20.89658264 20.90777583\n",
      " 20.91874701 20.9295027  20.94004919]\n"
     ]
    }
   ],
   "source": [
    "# Now define linspace and integrate for 200 steps\n",
    "\n",
    "npt = 201\n",
    "xx = np.linspace(-20, 20, npt)\n",
    "h = (xx[1]-xx[0]) # step size\n",
    "yy = np.zeros(npt)\n",
    "y0 = 1 # initial condition\n",
    "yy[0] = y0\n",
    "\n",
    "for i in range(npt-1): # iterate over all points after initial point, integrating\n",
    "    yy[i+1] = rk4_step(func,xx[i],yy[i],h)\n",
    "\n",
    "#fig, ax = plt.subplots(figsize=[14, 8])\n",
    "integral = h*np.sum(yy)\n",
    "print(integral)\n",
    "print(yy)"
   ]
  },
  {
   "cell_type": "markdown",
   "id": "45bbfb5e",
   "metadata": {},
   "source": [
    "Now write another stepper that takes a step of length $h$, compares that to two steps of $h/2$, and uses them to cancel out the leading-order error term from RK4. How many function evaluations per step does this one use? Use this modified stepper to carry out the same ODE solution using the $\\textit{same number of function evaluations}$ as the original. Which is more accurate?"
   ]
  },
  {
   "cell_type": "code",
   "execution_count": 22,
   "id": "9580f3b8",
   "metadata": {},
   "outputs": [],
   "source": [
    "def rk4_stepd(fun,x,y,h):\n",
    "    # one full step\n",
    "    fstep = rk4_step(fun, x, y, h)\n",
    "    # two half-steps\n",
    "    hstep1 = rk4_step(fun, x, y, h/2)\n",
    "    hstep2 = rk4_step(fun, x, hstep1, h/2)\n",
    "    return hstep1+hstep2 +(hstep1+hstep2-fstep)/15"
   ]
  },
  {
   "cell_type": "code",
   "execution_count": 23,
   "id": "c5c4442c",
   "metadata": {},
   "outputs": [
    {
     "name": "stdout",
     "output_type": "stream",
     "text": [
      "[1.00000000e+00 2.06743525e+00 4.27432076e+00 8.83701686e+00\n",
      " 1.82703868e+01 3.77740362e+01 7.80985103e+01 1.61471520e+02\n",
      " 3.33851298e+02 6.90262504e+02 1.42718316e+03 2.95086605e+03\n",
      " 6.10131971e+03 1.26154494e+04 2.60847386e+04 5.39355658e+04\n",
      " 1.11524209e+05 2.30604838e+05 4.76840595e+05 9.86015573e+05\n",
      " 2.03892048e+06 4.21621730e+06 8.71870745e+06 1.80296748e+07\n",
      " 3.72846964e+07 7.71046435e+07 1.59454929e+08 3.29763940e+08\n",
      " 6.81987632e+08 1.41045194e+09 2.91708382e+09 6.03321387e+09\n",
      " 1.24783779e+10 2.58093799e+10 5.33835539e+10 1.10420154e+11\n",
      " 2.28402406e+11 4.72459951e+11 9.77331509e+11 2.02177110e+12\n",
      " 4.18249953e+12 8.65275378e+12 1.79014438e+13 3.70371734e+13\n",
      " 7.66310044e+13 1.58558314e+14 3.28089484e+14 6.78915057e+14\n",
      " 1.40494568e+15 2.90754069e+15 6.01749240e+15 1.24546117e+16\n",
      " 2.57793080e+16 5.33630187e+16 1.10468737e+17 2.28702126e+17\n",
      " 4.73516319e+17 9.80473701e+17 2.03037250e+18 4.20491325e+18\n",
      " 8.70929370e+18 1.80408397e+19 3.73750815e+19 7.74396175e+19\n",
      " 1.60473895e+20 3.32591176e+20 6.89426121e+20 1.42936000e+21\n",
      " 2.96400771e+21 6.14764293e+21 1.27537623e+22 2.64653899e+22\n",
      " 5.49338240e+22 1.14060625e+23 2.36908539e+23 4.92256654e+23\n",
      " 1.02326438e+24 2.12810021e+24 4.42823434e+24 9.22007202e+24\n",
      " 1.92105451e+25 4.00580699e+25 8.36059312e+25 1.74680033e+26\n",
      " 3.65413228e+26 7.65513334e+26 1.60643504e+27 3.37798752e+27\n",
      " 7.12060119e+27 1.50545104e+28 3.19447545e+28 6.80913555e+28\n",
      " 1.45959705e+29 3.15107235e+29 6.86417535e+29 1.51235957e+30\n",
      " 3.37973566e+30 7.68312285e+30 1.78036720e+31 4.20265293e+31\n",
      " 1.00522307e+32 2.41174116e+32 5.73814088e+32 1.34303943e+33\n",
      " 3.08337624e+33 6.94998842e+33 1.54207747e+34 3.37808952e+34\n",
      " 7.32520060e+34 1.57572512e+35 3.36807329e+35 7.16281651e+35\n",
      " 1.51711594e+36 3.20272258e+36 6.74286136e+36 1.41643396e+37\n",
      " 2.96986089e+37 6.21715577e+37 1.29977024e+38 2.71421769e+38\n",
      " 5.66232713e+38 1.18025116e+39 2.45827583e+39 5.11685759e+39\n",
      " 1.06445242e+40 2.21323732e+40 4.59973678e+40 9.55569460e+40\n",
      " 1.98442179e+41 4.11968423e+41 8.54999448e+41 1.77399238e+42\n",
      " 3.67986822e+42 7.63161995e+42 1.58238967e+43 3.28042223e+43\n",
      " 6.79942555e+43 1.40911600e+44 2.91983687e+44 6.04940265e+44\n",
      " 1.25317793e+45 2.59575200e+45 5.37610047e+45 1.11334167e+46\n",
      " 2.30541633e+46 4.77345382e+46 9.88282189e+46 2.04595611e+47\n",
      " 4.23526702e+47 8.76670293e+47 1.81453153e+48 3.75549401e+48\n",
      " 7.77222605e+48 1.60842542e+49 3.32839492e+49 6.88728980e+49\n",
      " 1.42509080e+50 2.94861723e+50 6.10066091e+50 1.26217298e+51\n",
      " 2.61123040e+51 5.40202515e+51 1.11751618e+52 2.31173218e+52\n",
      " 4.78198633e+52 9.89160689e+52 2.04603769e+53 4.23203445e+53\n",
      " 8.75334487e+53 1.81045872e+54 3.74449622e+54 7.74441756e+54\n",
      " 1.60167764e+55 3.31247658e+55 6.85049931e+55 1.41671885e+56\n",
      " 2.92979658e+56 6.05876223e+56 1.25291982e+57 2.59093100e+57\n",
      " 5.35774284e+57 1.10790259e+58 2.29094790e+58 4.73721385e+58\n",
      " 9.79546643e+58 2.02545128e+59 4.18806316e+59 8.65963458e+59\n",
      " 1.79052753e+60 3.70218145e+60 7.65472891e+60 1.58269598e+61\n",
      " 3.27235863e+61 6.76581534e+61 1.39886360e+62 2.89218926e+62\n",
      " 5.97962955e+62 1.23628386e+63 2.55598662e+63 5.28439801e+63\n",
      " 1.09251934e+64]\n"
     ]
    }
   ],
   "source": [
    "npt = 201\n",
    "xx = np.linspace(-20, 20, npt)\n",
    "h = (xx[1]-xx[0]) # step size\n",
    "yy = np.zeros(npt)\n",
    "y0 = 1 # initial condition\n",
    "yy[0] = y0\n",
    "\n",
    "for i in range(npt-1): # iterate over all points after initial point, integrating\n",
    "    yy[i+1] = rk4_stepd(func,xx[i],yy[i],h)\n",
    "    \n",
    "print(yy)"
   ]
  },
  {
   "cell_type": "markdown",
   "id": "698e23c1",
   "metadata": {},
   "source": [
    "# Q2a) Write a program to solve for the decay of products of U238 (see slides). You can use the ODE solver from scipy, but need to set up problem properly. Include all decay products in the chain. Assume you start from a sample of pure U238. What solver would you use for this problem?"
   ]
  },
  {
   "cell_type": "markdown",
   "id": "ee44f77b",
   "metadata": {},
   "source": [
    "The $i^{th}$ nuclide's decay may be written as $\\frac{dN_i}{dt} = \\lambda_{i-1} N_{i-1} - \\lambda_i N_i$, whilst the $0^{th}$ is $\\frac{dN_0}{dt} = -\\lambda_0 N_0$, and the last decay is simply $\\frac{dN_{n-1}}{dt} = \\lambda_{n-1} N_{n-1}$, given the first decay has no preceding nuclide and the last decay results in a stable nuclide. Taking $\\lambda = \\tau^{-1}$ for $\\tau$ being the the mean lifetime of the nuclide we can compute its half-life as $t_{1/2} = \\frac{\\text{ln}(2)}{\\lambda}$, and hence replace $\\lambda_i$ with $\\frac{\\text{ln}(2)}{t_{1/2, i}}$ in the previously stated equations."
   ]
  },
  {
   "cell_type": "code",
   "execution_count": 27,
   "id": "fe928d20",
   "metadata": {},
   "outputs": [],
   "source": [
    "from scipy import integrate"
   ]
  },
  {
   "cell_type": "code",
   "execution_count": 68,
   "id": "6a651a04",
   "metadata": {},
   "outputs": [],
   "source": [
    "# Make list with half-lives of different nuclides (in years)\n",
    "\n",
    "half_lives = [4.468e9, 24.10/365, 6.70/ 24 /365, 245500, 75380, 1600, 38235/365, 3.10/60/24/365, 26.8/60/24/365,\n",
    "             19.9/60/24/365, 164.3*1e-6 /60/60/24/365, 22.3, 5015, 138.376/365]\n",
    "\n",
    "# Define function for the decay of a multiple nuclides\n",
    "\n",
    "def decay(t, N, half_life=half_lives):\n",
    "\n",
    "    dNdt = np.zeros(len(half_life)+1)\n",
    "    A = np.log(2) # constant for half-life\n",
    "    \n",
    "    for i in range(len(dNdt)): # iterate through nuclide decays\n",
    "        if i == 0:\n",
    "            dNdt[0] = -A*N[0]/half_life[0] # first decay\n",
    "        elif i == (len(half_life)):\n",
    "            dNdt[-1] = A*N[-2]/half_life[-2] # last decay\n",
    "        else:\n",
    "            dNdt[i] = A*(N[i-1]/half_life[i-1] - N[i]/half_life[i])\n",
    "    return dNdt"
   ]
  },
  {
   "cell_type": "markdown",
   "id": "5c17e9d3",
   "metadata": {},
   "source": [
    "Now that we have defined our decay process and calculated the half-lives from the slides in class in terms of Earth-years, we can numerically integrate using scipy integration. Given the question states we start with pure U238, we set this initial value to 1 and leave all other nuclides as 0. To choose the type of solver, we consider what we saw in class where the RK4 algorithm was very slow and required several orders of magnitude larger evaluations compared to the Radau method. Therefore, we will use the Radau method here, and integrate over a time interval of comparable magnitude to the half-life of U238, as if we set this interval to be several orders of magnitude smaller, there will be no evolution of the system as the first nuclide in the chain will not have decayed. In this instance, we will conservatively choose $10^{10}$, although it is likely that any interval around $\\approx 10^7$ would be sufficient to see some reasonable change in the initial nuclide change (and subsequent nuclides in the chain)."
   ]
  },
  {
   "cell_type": "code",
   "execution_count": 102,
   "id": "554156dc",
   "metadata": {},
   "outputs": [
    {
     "data": {
      "image/png": "[encoded data removed]",
      "text/plain": [
       "<Figure size 1008x576 with 1 Axes>"
      ]
     },
     "metadata": {
      "needs_background": "light"
     },
     "output_type": "display_data"
    }
   ],
   "source": [
    "# Define the starting point, where we have pure U238, set to 1 for simplicity\n",
    "\n",
    "zeros = np.zeros(len(half_lives)+1)\n",
    "zeros[0] = 1\n",
    "N0 = zeros\n",
    "t0,t1 = 0, 1e10 # time interval bounds\n",
    "\n",
    "ans_stiff = integrate.solve_ivp(decay,[t0, t1], N0, method='Radau')\n",
    "fig, ax = plt.subplots(figsize=[14, 8])\n",
    "ax.plot(ans_stiff.t, ans_stiff.y[0,:], '*-')\n",
    "ax.set_ylabel('Fraction of nuclide remaining', fontsize=16)\n",
    "ax.set_xlabel('time [years]', fontsize=16)\n",
    "ax.set_title('U238 decay', fontsize=16);"
   ]
  },
  {
   "cell_type": "markdown",
   "id": "6b055160",
   "metadata": {},
   "source": [
    "# Q2b) Plot the ratio of Pb206 to U238 as a function of time over a region where it's interesting. Does this make sense analytically? (All half-lives are short compared to U238, so you can approximate the U238 decaying instantly to lead). Now plot the ratio of Thorium 230 to U234 over a region where that is interesting. "
   ]
  },
  {
   "cell_type": "markdown",
   "id": "ea123f74",
   "metadata": {},
   "source": [
    "Pb206 is the last element in the chain, and therefore we can compute the ratio of Pb206 to U238 by dividing the last element by the first element as a function of time (which we have already computed above)."
   ]
  },
  {
   "cell_type": "code",
   "execution_count": 112,
   "id": "78f09295",
   "metadata": {},
   "outputs": [
    {
     "data": {
      "image/png": "[encoded data removed]",
      "text/plain": [
       "<Figure size 1008x576 with 1 Axes>"
      ]
     },
     "metadata": {
      "needs_background": "light"
     },
     "output_type": "display_data"
    }
   ],
   "source": [
    "Pb206 = ans_stiff.y[-1,:]\n",
    "U238 = ans_stiff.y[0,:]\n",
    "\n",
    "fig, ax = plt.subplots(figsize=[14, 8])\n",
    "ax.plot(ans_stiff.t[5:], (Pb206/U238)[5:], '*-')\n",
    "ax.set_ylabel('Pb206:U238', fontsize=16)\n",
    "ax.set_xlabel('time [years]', fontsize=16)\n",
    "ax.set_title('Pb206 to U238 Ratio', fontsize=16)\n",
    "ax.set_yscale('log')\n",
    "ax.set_xscale('log');"
   ]
  },
  {
   "cell_type": "markdown",
   "id": "04d8e541",
   "metadata": {},
   "source": [
    "We see the progressive increase in the ratio with time as more Pb206 is formed and more U238 decays. Over an interval of $\\approx 1$ billion years, the ratio jumps from $\\approx 10^{-12}$ to $\\approx 10^{-4}$."
   ]
  },
  {
   "cell_type": "code",
   "execution_count": 115,
   "id": "6558a0f6",
   "metadata": {},
   "outputs": [
    {
     "name": "stderr",
     "output_type": "stream",
     "text": [
      "<ipython-input-115-901844d9f150>:5: RuntimeWarning: invalid value encountered in true_divide\n",
      "  ax.plot(ans_stiff.t[:8], (Th230/U234)[:8], '*-')\n"
     ]
    },
    {
     "data": {
      "image/png": "[encoded data removed]",
      "text/plain": [
       "<Figure size 1008x576 with 1 Axes>"
      ]
     },
     "metadata": {
      "needs_background": "light"
     },
     "output_type": "display_data"
    }
   ],
   "source": [
    "Th230 = ans_stiff.y[4,:]\n",
    "U234 = ans_stiff.y[3,:]\n",
    "\n",
    "fig, ax = plt.subplots(figsize=[14, 8])\n",
    "ax.plot(ans_stiff.t[:8], (Th230/U234)[:8], '*-')\n",
    "ax.set_ylabel('Th230:U234', fontsize=16)\n",
    "ax.set_xlabel('time [years]', fontsize=16)\n",
    "ax.set_title('Th230 to U234 ratio', fontsize=16)\n",
    "ax.set_yscale('log')\n",
    "ax.set_xscale('log');"
   ]
  },
  {
   "cell_type": "markdown",
   "id": "c4f2a96c",
   "metadata": {},
   "source": [
    "In this instance, the ratio evolves over a much smaller timescale and earlier on given the two nuclides are further up in the chain than Pb206. Over a period of $\\approx 10^5$ years, the ratio increases from $10^{-6} \\rightarrow 10^{-1}$."
   ]
  },
  {
   "cell_type": "markdown",
   "id": "7328031f",
   "metadata": {},
   "source": [
    "# Q3a) Look at file dish_zenith.txt, containing data for prototype telescope dish. The end result is that dish_zenith.txt contains the (x,y,z) positions in mm of a few hundred targets placed on the dish. The ideal telescope dish should be a rotationally symmetric paraboloid. We will try to measure the shape of the paraboloid, and see how well we did. For the dish pointing in the z-direction, we have a rotationally symmetric paraboloid, $z - z_0 = a((x-x_0)^2 + (y-y_0)^2$ where we need to solve for $x_0, y_0, x_0, a$. Show that we can pick a set of new parameters that make the problem linear. What are these new parameters and how to they relate to the old ones?"
   ]
  },
  {
   "cell_type": "markdown",
   "id": "ec924a96",
   "metadata": {},
   "source": []
  },
  {
   "cell_type": "code",
   "execution_count": 127,
   "id": "0e4959eb",
   "metadata": {},
   "outputs": [
    {
     "name": "stdout",
     "output_type": "stream",
     "text": [
      "[ 1.426057e+03  1.282076e+03  1.098741e+03  1.247659e+03  1.067255e+03\n",
      "  1.065281e+03  9.496440e+02  1.064484e+03  1.464422e+03  1.116177e+03\n",
      "  2.190252e+03  2.077323e+03  1.963414e+03  1.842735e+03  1.713418e+03\n",
      "  1.581005e+03  1.446929e+03  1.311348e+03  1.175578e+03  1.215348e+03\n",
      "  1.027516e+03  1.562301e+03  1.401601e+03  1.248649e+03  1.392732e+03\n",
      "  2.053558e+03  2.053387e+03  1.895343e+03  1.728303e+03  1.566694e+03\n",
      "  6.991020e+02  8.378070e+02  5.034500e+02  7.506700e+02  7.981380e+02\n",
      "  6.419550e+02  1.270599e+03  8.769080e+02  1.651061e+03  2.123733e+03\n",
      "  1.220383e+03  1.567095e+03  2.039038e+03  1.156701e+03  2.520392e+03\n",
      "  1.489110e+03  1.935604e+03  1.096135e+03  2.392049e+03  2.786916e+03\n",
      "  1.403825e+03  1.826319e+03  1.024650e+03  2.682530e+03  1.315239e+03\n",
      "  1.718121e+03  9.535310e+02  2.115755e+03  2.536131e+03  1.228466e+03\n",
      "  2.399086e+03  1.980497e+03  8.726900e+02  1.139684e+03  8.034090e+02\n",
      "  1.045913e+03  1.359487e+03  2.106602e+03  1.700409e+03  2.456276e+03\n",
      "  2.308801e+03  1.226998e+03  1.954016e+03  1.557927e+03  1.786565e+03\n",
      "  8.551020e+02  1.418924e+03  1.094619e+03  1.608521e+03  9.596280e+02\n",
      "  2.259683e+03  1.603558e+03  9.495350e+02  1.495636e+03  1.272288e+03\n",
      "  1.286266e+03  1.728218e+03  1.238962e+03  1.322059e+03  1.490873e+03\n",
      "  1.569921e+03  1.646187e+03  2.903628e+03  2.253442e+03  2.761321e+03\n",
      "  2.953260e+03  2.613588e+03  2.815074e+03  2.671336e+03  2.517508e+03\n",
      "  2.149163e+03  2.359430e+03  2.202882e+03  2.363390e+03  2.681259e+03\n",
      "  2.575869e+03  2.214695e+03  1.875184e+03  2.447756e+03  1.677166e+03\n",
      "  2.177547e+03  1.489528e+03  1.884973e+03  1.409709e+03  2.895930e+03\n",
      "  2.797978e+03  2.659568e+03  2.312601e+03  2.515644e+03  1.986807e+03\n",
      "  2.046535e+03  1.844434e+03  1.811515e+03  1.647783e+03 -7.442180e+02\n",
      " -6.838330e+02 -9.970860e+02 -8.738550e+02 -1.175507e+03 -1.125683e+03\n",
      " -1.048999e+03 -1.308602e+03 -1.214435e+03 -1.821448e+03 -6.906520e+02\n",
      " -5.301130e+02 -4.325490e+02 -6.019550e+02 -5.165730e+02 -6.351970e+02\n",
      " -7.604620e+02 -8.745790e+02 -6.955600e+02 -8.510460e+02 -8.982000e+02\n",
      " -1.128320e+03 -1.101370e+03 -1.307028e+03 -1.342472e+03 -1.366578e+03\n",
      " -1.520860e+03 -1.568994e+03 -1.716675e+03 -1.473525e+03 -1.754130e+03\n",
      " -1.651890e+03 -2.115016e+03 -1.984048e+03 -2.146168e+03 -2.296860e+03\n",
      " -2.607026e+03 -2.749122e+03 -2.895003e+03 -6.887770e+02 -5.580480e+02\n",
      " -7.764000e+02 -6.191420e+02 -9.883330e+02 -8.612130e+02 -6.675880e+02\n",
      " -1.092232e+03 -9.357310e+02 -7.042060e+02 -1.008698e+03 -7.467620e+02\n",
      " -1.089038e+03 -1.163082e+03 -4.960970e+02 -7.963490e+02 -2.606062e+03\n",
      " -2.473703e+03 -2.345341e+03 -2.209568e+03 -2.069445e+03 -1.776222e+03\n",
      " -1.448817e+03 -1.614826e+03 -1.303059e+03 -1.455019e+03 -1.157320e+03\n",
      " -1.674653e+03 -1.299978e+03 -1.503657e+03 -1.014236e+03 -2.453416e+03\n",
      " -2.859610e+02 -1.933363e+03 -3.031380e+02 -3.423110e+02 -3.584670e+02\n",
      " -3.700220e+02 -8.423250e+02 -8.819720e+02 -9.260230e+02 -1.374632e+03\n",
      " -1.774066e+03 -1.382429e+03 -1.684859e+03 -1.306107e+03 -1.590616e+03\n",
      " -1.956920e+03 -1.232835e+03 -1.496470e+03 -1.401585e+03 -1.713665e+03\n",
      " -1.307067e+03 -1.593206e+03 -1.191150e+03 -1.082883e+03 -9.351460e+02\n",
      " -7.946570e+02 -9.262980e+02 -2.860160e+03 -2.600639e+03 -2.457417e+03\n",
      " -2.154741e+03 -2.027999e+03 -1.859779e+03 -1.906063e+03 -1.052523e+03\n",
      " -1.179805e+03 -1.076736e+03 -2.930673e+03 -2.882312e+03 -2.794793e+03\n",
      " -2.738390e+03 -2.640136e+03 -2.305411e+03 -2.494691e+03 -2.187516e+03\n",
      " -2.450501e+03 -2.310653e+03 -2.347248e+03 -2.099661e+03 -1.926630e+03\n",
      " -2.737557e+03 -2.584761e+03 -2.070609e+03 -1.833547e+03 -8.769460e+02\n",
      " -9.792110e+02 -1.557650e+03 -1.348005e+03 -9.679910e+02 -1.432747e+03\n",
      " -1.097949e+03 -1.277357e+03 -1.440956e+03 -1.036862e+03 -1.519355e+03\n",
      " -1.217935e+03 -1.665488e+03 -1.230653e+03 -1.978234e+03 -2.284559e+03\n",
      " -1.592133e+03 -1.876023e+03 -2.163212e+03 -1.766940e+03 -2.028127e+03\n",
      " -1.159862e+03 -2.280973e+03 -1.536713e+03 -1.365658e+03 -1.166296e+03\n",
      " -1.636627e+03 -1.315098e+03 -1.666027e+03 -1.711089e+03 -1.871306e+03\n",
      " -2.023731e+03 -1.904722e+03 -2.165991e+03 -2.305069e+03 -2.434268e+03\n",
      " -2.075316e+03 -2.565740e+03 -2.401136e+03 -2.688603e+03 -1.502019e+03\n",
      " -3.214500e+02 -1.766875e+03 -1.262828e+03  7.566000e+02  5.495430e+02\n",
      "  6.409030e+02 -4.260500e+02 -6.704030e+02 -5.081150e+02 -2.244920e+02\n",
      " -2.704250e+02 -7.749390e+02 -3.405100e+01 -5.807550e+02 -3.183200e+02\n",
      " -3.548800e+01 -3.582700e+02 -4.099200e+01  7.168240e+02 -4.069190e+02\n",
      " -5.223700e+01 -8.160520e+02 -4.458940e+02  3.482650e+02  1.254910e+02\n",
      " -5.406700e+01 -4.851880e+02  3.704690e+02  1.318920e+02 -6.373000e+01\n",
      " -5.296070e+02  3.962330e+02  1.481140e+02 -7.833500e+01 -5.639660e+02\n",
      "  4.181110e+02  1.630980e+02 -7.959400e+01 -5.975030e+02  4.376950e+02\n",
      " -7.658700e+01 -6.275070e+02  1.779430e+02 -8.342800e+01 -6.569440e+02\n",
      "  1.891470e+02 -8.736100e+01 -6.846970e+02  1.935630e+02 -8.658500e+01\n",
      "  1.215600e+02 -7.267890e+02 -8.964910e+02  4.806170e+02 -6.563430e+02\n",
      "  2.406540e+02  4.602340e+02  5.862870e+02  5.392440e+02  4.929640e+02\n",
      "  3.069800e+02  4.556320e+02  2.721410e+02 -2.842600e+01  1.967100e+02\n",
      "  1.699790e+02 -2.427540e+02 -1.727330e+02 -4.033030e+02  8.739240e+02\n",
      "  7.335360e+02  2.551450e+02  3.879410e+02  6.735770e+02  5.704010e+02\n",
      "  2.166720e+02  2.332500e+01  2.952000e+02  1.382300e+01  3.985040e+02\n",
      "  1.186000e+01  2.159880e+02 -1.809990e+02  4.657610e+02  5.767400e+02\n",
      "  1.011900e+03  9.596620e+02  9.142420e+02  8.664140e+02  8.152600e+02\n",
      "  7.452700e+02  6.797750e+02  3.749640e+02  6.252320e+02  3.396420e+02\n",
      "  8.885290e+02  5.424470e+02  3.012160e+02  7.917700e+02  6.897520e+02\n",
      " -3.085770e+02  3.755000e+00  1.157084e+03 -2.098690e+02 -3.779780e+02\n",
      " -2.816000e+00  5.599640e+02  5.338630e+02  5.098240e+02  9.114200e+01\n",
      "  4.777590e+02  3.903400e+01 -2.608340e+02  3.465200e+01 -2.422150e+02\n",
      "  5.612100e+01 -3.808630e+02  4.091390e+02  1.027390e+02  4.458240e+02\n",
      "  1.043058e+03  8.939290e+02  1.066377e+03  4.655800e+01  7.537800e+01\n",
      "  8.527600e+01  9.898200e+01 -4.010360e+02  9.790280e+02  9.005810e+02\n",
      "  8.772900e+02  7.016100e+02  6.827260e+02  5.466910e+02  6.868720e+02\n",
      "  6.438320e+02  8.341230e+02  6.077770e+02  1.061851e+03  5.866620e+02\n",
      "  1.018410e+02 -1.044800e+01  2.150590e+02  2.628080e+02  3.604090e+02\n",
      " -3.313830e+02 -2.192400e+01  1.156410e+02  1.656840e+02  2.429030e+02\n",
      "  1.297960e+02  4.508400e+02  4.627840e+02  2.947540e+02  9.773500e+01\n",
      "  3.550000e-01 -2.625000e+00 -1.407980e+02  4.991350e+02  3.965220e+02\n",
      "  2.841020e+02  1.784650e+02  1.552570e+02 -2.432220e+02 -6.667840e+02\n",
      " -5.193060e+02  6.962600e+01  9.322300e+01 -7.062100e+01 -2.292630e+02\n",
      "  8.000700e+01  1.289000e+00 -3.821320e+02 -1.082880e+02 -2.103700e+02\n",
      " -3.643300e+02 -2.779540e+02 -4.969530e+02 -5.439880e+02 -3.309770e+02\n",
      " -4.988820e+02 -5.882000e+00 -7.662600e+01 -9.666600e+01  1.800000e-02]\n"
     ]
    }
   ],
   "source": [
    "data=np.loadtxt('dish_zenith.txt')\n",
    "x, y, z = data.T\n",
    "print(x)"
   ]
  },
  {
   "cell_type": "code",
   "execution_count": 131,
   "id": "44ec8ea9",
   "metadata": {},
   "outputs": [],
   "source": [
    "A = np.zeros((len(data),6))\n",
    "\n",
    "A[:,0] = x**2\n",
    "A[:,1] = y**2\n",
    "A[:,2] = -2*x\n",
    "A[:,3] = -2*y\n",
    "A[:,4] = -z\n",
    "A[:,5] = 1\n",
    "\n",
    "m = np.linalg.inv(A.T@A)@A.T@data\n",
    "#for i in range(len(data)):\n",
    "#    A[:,0] = x[i]**2\n",
    "#    A[:,1] = y[i]**2\n",
    "#    A[:,2] = -2*x[i]\n",
    "#    A[:,3] = -2*y[i]\n",
    "#    A[:,4] = -z[i]\n",
    "#    A[:,5] = 1\n",
    "#print(A)"
   ]
  },
  {
   "cell_type": "code",
   "execution_count": 132,
   "id": "8c5d78b1",
   "metadata": {},
   "outputs": [
    {
     "name": "stdout",
     "output_type": "stream",
     "text": [
      "[[-1.09981468e-15  1.02012582e-14 -2.10508694e-15]\n",
      " [-1.02175213e-15  1.02546010e-14  1.55040911e-16]\n",
      " [-5.00000000e-01 -1.24344979e-14  1.41206491e-15]\n",
      " [-6.36157793e-14 -5.00000000e-01 -1.61204383e-13]\n",
      " [-6.32383035e-12  6.18349816e-11 -1.00000000e+00]\n",
      " [ 8.64383765e-09 -9.44492058e-08  6.09361450e-10]]\n"
     ]
    }
   ],
   "source": [
    "print(m)"
   ]
  },
  {
   "cell_type": "code",
   "execution_count": 125,
   "id": "c88f9039",
   "metadata": {},
   "outputs": [
    {
     "name": "stdout",
     "output_type": "stream",
     "text": [
      "[[ 2.03363857e+06  1.96852830e+05 -2.85211400e+03  8.87362000e+02\n",
      "   1.13364900e+03  1.00000000e+00]\n",
      " [ 1.64371887e+06  2.62890553e+04 -2.56415200e+03  3.24278000e+02\n",
      "   1.23222100e+03  1.00000000e+00]\n",
      " [ 1.20723179e+06  5.66888526e+03 -2.19748200e+03 -1.50584000e+02\n",
      "   1.31379200e+03  1.00000000e+00]\n",
      " ...\n",
      " [ 5.87154388e+03  1.44610245e+04  1.53252000e+02 -2.40508000e+02\n",
      "   1.51082100e+03  1.00000000e+00]\n",
      " [ 9.34431556e+03  2.95729316e+03  1.93332000e+02 -1.08762000e+02\n",
      "   1.51114900e+03  1.00000000e+00]\n",
      " [ 3.24000000e-04  2.14183225e+04 -3.60000000e-02 -2.92700000e+02\n",
      "   1.51178700e+03  1.00000000e+00]]\n"
     ]
    }
   ],
   "source": [
    "print(A)"
   ]
  },
  {
   "cell_type": "code",
   "execution_count": null,
   "id": "a5a5ed08",
   "metadata": {},
   "outputs": [],
   "source": []
  }
 ],
 "metadata": {
  "kernelspec": {
   "display_name": "Python 3",
   "language": "python",
   "name": "python3"
  },
  "language_info": {
   "codemirror_mode": {
    "name": "ipython",
    "version": 3
   },
   "file_extension": ".py",
   "mimetype": "text/x-python",
   "name": "python",
   "nbconvert_exporter": "python",
   "pygments_lexer": "ipython3",
   "version": "3.8.8"
  }
 },
 "nbformat": 4,
 "nbformat_minor": 5
}

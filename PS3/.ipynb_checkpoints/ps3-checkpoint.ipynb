{
 "cells": [
  {
   "cell_type": "code",
   "execution_count": 31,
   "id": "d407d0ba",
   "metadata": {},
   "outputs": [],
   "source": [
    "import numpy as np\n",
    "import matplotlib.pyplot as plt"
   ]
  },
  {
   "cell_type": "markdown",
   "id": "ab06d3e1",
   "metadata": {},
   "source": [
    "# Q1) Write an RK4 integrator with prototype to take one step. Use $\\frac{dy}{dx} = \\frac{y}{1+x^2}$, from $x=-20$ to $x=20$, with $y(-20)=1$ using $200$ steps."
   ]
  },
  {
   "cell_type": "code",
   "execution_count": 27,
   "id": "c5aa57ec",
   "metadata": {},
   "outputs": [],
   "source": [
    "def rk4_step(fun,x,y,h):\n",
    "    k1=fun(x,y)\n",
    "    k2=fun(x+h/2,y+h*k1/2)\n",
    "    k3=fun(x+h/2,y+h*k2/2)\n",
    "    k4=fun(x+h,y+h*k3)\n",
    "    dy=h*(k1+2*k2+2*k3+k4)/6\n",
    "    return y+dy\n",
    "    \n",
    "def func(x,y):\n",
    "    dydx=y/(1+x**2)\n",
    "    return dydx"
   ]
  },
  {
   "cell_type": "code",
   "execution_count": 52,
   "id": "32143c3a",
   "metadata": {},
   "outputs": [
    {
     "name": "stdout",
     "output_type": "stream",
     "text": [
      "397.79113254873255\n"
     ]
    }
   ],
   "source": [
    "# Now define linspace and integrate for 200 steps\n",
    "\n",
    "npt = 201\n",
    "xx = np.linspace(-20, 20, npt)\n",
    "h = (xx[1]-xx[0]) # step size\n",
    "yy = np.zeros(npt)\n",
    "y0 = 1 # initial condition\n",
    "yy[0] = y0\n",
    "\n",
    "for i in range(npt-1): # iterate over all points after initial point, integrating\n",
    "    yy[i+1] = rk4_step(func,xx[i],yy[i],h)\n",
    "\n",
    "#fig, ax = plt.subplots(figsize=[14, 8])\n",
    "integral = h*np.sum(yy)\n",
    "print(integral)"
   ]
  },
  {
   "cell_type": "markdown",
   "id": "45bbfb5e",
   "metadata": {},
   "source": [
    "Now write another stepper that takes a step of length $h$, compares that to two steps of $h/2$, and uses them to cancel out the leading-order error term from RK4. How many function evaluations per step does this one use? Use this modified stepper to carry out the same ODE solution using the $\\textit{same number of function evaluations}$ as the original. Which is more accurate?"
   ]
  },
  {
   "cell_type": "code",
   "execution_count": 48,
   "id": "9580f3b8",
   "metadata": {},
   "outputs": [],
   "source": [
    "def rk4_stepd(fun,x,y,h):\n",
    "    upper = rk4_step(fun, x + h/2, y, h/2)\n",
    "    lower = rk4_step(fun, x, y, h/2)\n",
    "    big = rk4_step(fun, x, y, h)\n",
    "    #print(\"Upper is:\" + repr(upper) + \"Lower is:\" + repr(lower) + 'Big is: ' + repr(big))\n",
    "    return (upper+lower)/2 - big"
   ]
  },
  {
   "cell_type": "code",
   "execution_count": 54,
   "id": "c5c4442c",
   "metadata": {},
   "outputs": [],
   "source": [
    "diff = 0\n",
    "for i in range(npt-1): # iterate over all points after initial point, integrating\n",
    "    diff += rk4_stepd(func,xx[i],yy[i],h)"
   ]
  },
  {
   "cell_type": "code",
   "execution_count": 55,
   "id": "154e569d",
   "metadata": {},
   "outputs": [
    {
     "name": "stdout",
     "output_type": "stream",
     "text": [
      "397.79113254873255\n"
     ]
    }
   ],
   "source": [
    "print(h*np.sum(yy))"
   ]
  },
  {
   "cell_type": "code",
   "execution_count": null,
   "id": "6a651a04",
   "metadata": {},
   "outputs": [],
   "source": []
  }
 ],
 "metadata": {
  "kernelspec": {
   "display_name": "Python 3",
   "language": "python",
   "name": "python3"
  },
  "language_info": {
   "codemirror_mode": {
    "name": "ipython",
    "version": 3
   },
   "file_extension": ".py",
   "mimetype": "text/x-python",
   "name": "python",
   "nbconvert_exporter": "python",
   "pygments_lexer": "ipython3",
   "version": "3.8.8"
  }
 },
 "nbformat": 4,
 "nbformat_minor": 5
}
